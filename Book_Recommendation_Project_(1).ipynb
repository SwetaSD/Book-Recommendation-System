{
  "cells": [
    {
      "cell_type": "code",
      "execution_count": null,
      "metadata": {
        "id": "5uJ9nFIDKf4n"
      },
      "outputs": [],
      "source": [
        "pip install imbalanced-learn"
      ]
    },
    {
      "cell_type": "code",
      "execution_count": null,
      "metadata": {
        "id": "6mduHK7hKm2m"
      },
      "outputs": [],
      "source": [
        "import pandas as pd\n",
        "import matplotlib.pyplot as plt\n",
        "import re\n",
        "import time\n",
        "import warnings\n",
        "import numpy as np\n",
        "from nltk.corpus import stopwords\n",
        "from sklearn.decomposition import TruncatedSVD\n",
        "from sklearn.preprocessing import normalize\n",
        "from sklearn.feature_extraction.text import CountVectorizer\n",
        "from sklearn.manifold import TSNE\n",
        "import seaborn as sns\n",
        "from sklearn.neighbors import KNeighborsClassifier\n",
        "from sklearn.metrics import confusion_matrix\n",
        "from sklearn.metrics import accuracy_score, precision_score, recall_score\n",
        "from sklearn.feature_extraction.text import TfidfVectorizer\n",
        "from sklearn.linear_model import SGDClassifier\n",
        "#from imblearn.over_sampling import SMOTE\n",
        "from collections import Counter\n",
        "from scipy.sparse import hstack\n",
        "from sklearn.multiclass import OneVsRestClassifier\n",
        "from sklearn.svm import SVC\n",
        "from sklearn.model_selection import StratifiedKFold\n",
        "from collections import Counter, defaultdict\n",
        "from sklearn.calibration import CalibratedClassifierCV\n",
        "from sklearn.naive_bayes import MultinomialNB\n",
        "from sklearn.naive_bayes import GaussianNB\n",
        "from sklearn.model_selection import train_test_split\n",
        "from sklearn.model_selection import GridSearchCV\n",
        "import math\n",
        "from sklearn.metrics import normalized_mutual_info_score\n",
        "from sklearn.ensemble import RandomForestClassifier\n",
        "warnings.filterwarnings(\"ignore\")\n",
        "\n",
        "from mlxtend.classifier import StackingClassifier\n",
        "from sklearn import model_selection\n",
        "from sklearn.linear_model import LogisticRegression"
      ]
    },
    {
      "cell_type": "code",
      "execution_count": null,
      "metadata": {
        "colab": {
          "background_save": true,
          "base_uri": "https://localhost:8080/"
        },
        "id": "TqNwTDr0KqPl",
        "outputId": "53b79927-3bb9-4171-f24b-d8af520cd53f"
      },
      "outputs": [
        {
          "name": "stdout",
          "output_type": "stream",
          "text": [
            "--2024-03-19 11:35:06--  https://cdn.freecodecamp.org/project-data/books/book-crossings.zip\n",
            "Resolving cdn.freecodecamp.org (cdn.freecodecamp.org)... 104.26.2.33, 104.26.3.33, 172.67.70.149, ...\n",
            "Connecting to cdn.freecodecamp.org (cdn.freecodecamp.org)|104.26.2.33|:443... connected.\n",
            "HTTP request sent, awaiting response... 200 OK\n",
            "Length: 26085508 (25M) [application/zip]\n",
            "Saving to: ‘book-crossings.zip.1’\n",
            "\n",
            "book-crossings.zip. 100%[===================>]  24.88M   144MB/s    in 0.2s    \n",
            "\n",
            "2024-03-19 11:35:06 (144 MB/s) - ‘book-crossings.zip.1’ saved [26085508/26085508]\n",
            "\n",
            "Archive:  book-crossings.zip\n",
            "replace BX-Book-Ratings.csv? [y]es, [n]o, [A]ll, [N]one, [r]ename: "
          ]
        }
      ],
      "source": [
        "!wget https://cdn.freecodecamp.org/project-data/books/book-crossings.zip\n",
        "\n",
        "!unzip book-crossings.zip\n",
        "\n",
        "books_filename = 'BX-Books.csv'\n",
        "ratings_filename = 'BX-Book-Ratings.csv'"
      ]
    },
    {
      "cell_type": "code",
      "execution_count": null,
      "metadata": {
        "id": "x8Yh6yLbTR48"
      },
      "outputs": [],
      "source": [
        "df_books = pd.read_csv(\n",
        "    books_filename,\n",
        "    encoding = \"ISO-8859-1\",\n",
        "    sep=\";\",\n",
        "    header=0,\n",
        "    names=['isbn', 'title', 'author'],\n",
        "    usecols=['isbn', 'title', 'author'],\n",
        "    dtype={'isbn': 'str', 'title': 'str', 'author': 'str'})\n",
        "\n",
        "df_ratings = pd.read_csv(\n",
        "    ratings_filename,\n",
        "    encoding = \"ISO-8859-1\",\n",
        "    sep=\";\",\n",
        "    header=0,\n",
        "    names=['user', 'isbn', 'rating'],\n",
        "    usecols=['user', 'isbn', 'rating'],\n",
        "    dtype={'user': 'int32', 'isbn': 'str', 'rating': 'float32'})"
      ]
    },
    {
      "cell_type": "code",
      "execution_count": null,
      "metadata": {
        "id": "gYqJuxfzUuJX"
      },
      "outputs": [],
      "source": [
        "df_books.head(10)"
      ]
    },
    {
      "cell_type": "code",
      "execution_count": null,
      "metadata": {
        "id": "WdtD_dEtVxde"
      },
      "outputs": [],
      "source": [
        "df_books.tail(10)"
      ]
    },
    {
      "cell_type": "code",
      "execution_count": null,
      "metadata": {
        "id": "_OTFvZcXVOUM"
      },
      "outputs": [],
      "source": [
        "df_books.shape"
      ]
    },
    {
      "cell_type": "code",
      "execution_count": null,
      "metadata": {
        "id": "KNtxZ63VVe59"
      },
      "outputs": [],
      "source": [
        "df_books.info()"
      ]
    },
    {
      "cell_type": "code",
      "execution_count": null,
      "metadata": {
        "id": "wxEsnXzJVtbf"
      },
      "outputs": [],
      "source": [
        "df_ratings.head(10)"
      ]
    },
    {
      "cell_type": "code",
      "execution_count": null,
      "metadata": {
        "id": "yBZ-pKTTV1pH"
      },
      "outputs": [],
      "source": [
        "df_ratings.tail(10)"
      ]
    },
    {
      "cell_type": "code",
      "execution_count": null,
      "metadata": {
        "id": "_LkFH36QUWC9"
      },
      "outputs": [],
      "source": [
        "df_ratings.info()"
      ]
    },
    {
      "cell_type": "code",
      "execution_count": null,
      "metadata": {
        "id": "818DdR2bUzRY"
      },
      "outputs": [],
      "source": [
        " # book_ratings = df_ratings['user'].value_counts()\n",
        "  #book_ratings.sort_values(ascending = False).head()\n",
        "  #len(book_ratings[book_ratings<200])\n",
        "  #df_ratings['user'].isin(book_ratings[book_ratings<200].index).sum()\n",
        "\n",
        "  # Count the number of ratings per user\n",
        "book_ratings = df_ratings['user'].value_counts()\n",
        "print(\"User ratings counts:\\n\", book_ratings)\n",
        "\n",
        "# Get the top users with the highest number of ratings\n",
        "top_users = book_ratings.sort_values(ascending=False).head()\n",
        "print(\"Top users with highest ratings:\\n\", top_users)\n",
        "\n",
        "# Count the number of users with fewer than 200 ratings\n",
        "users_below_threshold = df_ratings['user'].isin(book_ratings[book_ratings < 200].index).sum()\n",
        "print(\"Number of users with fewer than 200 ratings:\", users_below_threshold)"
      ]
    },
    {
      "cell_type": "markdown",
      "metadata": {
        "id": "XM2q0GtDSIfJ"
      },
      "source": []
    },
    {
      "cell_type": "code",
      "execution_count": null,
      "metadata": {
        "id": "1IFc-HmmYfpr"
      },
      "outputs": [],
      "source": [
        "df_ratings_books = df_ratings[\n",
        "    ~df_ratings['user'].isin(book_ratings[book_ratings<200].index)\n",
        "]\n",
        "print(\"Shape of filtered DataFrame:\",df_ratings_books.shape)"
      ]
    },
    {
      "cell_type": "code",
      "execution_count": null,
      "metadata": {
        "id": "fooFoQsqVyOU"
      },
      "outputs": [],
      "source": [
        "df_ratings_books.info() #so,here we can see that the entries reduced to 527556 which shows number of users with less than 200 ratings."
      ]
    },
    {
      "cell_type": "markdown",
      "metadata": {
        "id": "SIrXy9ixXgYO"
      },
      "source": []
    },
    {
      "cell_type": "markdown",
      "metadata": {
        "id": "QXfL9r66WiTy"
      },
      "source": [
        "Remove books with less than 100 ratings."
      ]
    },
    {
      "cell_type": "code",
      "execution_count": null,
      "metadata": {
        "id": "uRI0LsfFY9TY"
      },
      "outputs": [],
      "source": [
        "book_ratings_isbn = df_ratings['isbn'].value_counts()\n",
        "book_ratings_isbn.sort_values(ascending=False).head()\n",
        "print(\"Top ISBNs with highest ratings:\\n\", book_ratings_isbn)"
      ]
    },
    {
      "cell_type": "markdown",
      "metadata": {
        "id": "8UDnXhIDXryE"
      },
      "source": []
    },
    {
      "cell_type": "code",
      "execution_count": null,
      "metadata": {
        "id": "MD0CQ3gUdIQw"
      },
      "outputs": [],
      "source": [
        "len(book_ratings_isbn[book_ratings_isbn<100])"
      ]
    },
    {
      "cell_type": "code",
      "execution_count": null,
      "metadata": {
        "id": "0TssoFIIdREx"
      },
      "outputs": [],
      "source": [
        "df_books['isbn'].isin(book_ratings_isbn[book_ratings_isbn<100].index).sum()"
      ]
    },
    {
      "cell_type": "code",
      "execution_count": null,
      "metadata": {
        "id": "59qHCfaudl_A"
      },
      "outputs": [],
      "source": [
        "df_ratings_books = df_ratings_books[\n",
        "    ~df_ratings_books['isbn'].isin(book_ratings_isbn[book_ratings_isbn<100].index)\n",
        "]\n",
        "print(\"Shape of filtered DataFrame:\",df_ratings_books.shape)"
      ]
    },
    {
      "cell_type": "code",
      "execution_count": null,
      "metadata": {
        "id": "fhuzkcdMdbtM"
      },
      "outputs": [],
      "source": [
        "df_ratings_books.head(10)"
      ]
    },
    {
      "cell_type": "markdown",
      "metadata": {
        "id": "zzPQZPZZySIH"
      },
      "source": [
        "KNN"
      ]
    },
    {
      "cell_type": "code",
      "execution_count": null,
      "metadata": {
        "id": "BGQs2hm7zX8q"
      },
      "outputs": [],
      "source": [
        "df = df_ratings_books.pivot_table(index=['user'],columns=['isbn'],values='rating').fillna(0)\n",
        "df = df.T\n",
        "df.head()"
      ]
    },
    {
      "cell_type": "code",
      "execution_count": null,
      "metadata": {
        "id": "15lkiCn1eBn0"
      },
      "outputs": [],
      "source": [
        "df.index = df.join(df_books.set_index('isbn'))['title']\n",
        "df.index.name = 'title'"
      ]
    },
    {
      "cell_type": "code",
      "execution_count": null,
      "metadata": {
        "id": "lZOUlw2_05iR"
      },
      "outputs": [],
      "source": [
        "df  = df.sort_index()\n",
        "df.head()"
      ]
    },
    {
      "cell_type": "code",
      "execution_count": null,
      "metadata": {
        "id": "0oZKlyIr1cl0"
      },
      "outputs": [],
      "source": [
        "from sklearn.neighbors import NearestNeighbors\n",
        "model = NearestNeighbors(metric ='cosine') #cosine distance metric will be used to measure the similarity between the points.\n",
        "model.fit(df.values)"
      ]
    },
    {
      "cell_type": "code",
      "execution_count": null,
      "metadata": {
        "id": "rUKazv6r2Eyk"
      },
      "outputs": [],
      "source": [
        "title = 'The Queen of the Damned (Vampire Chronicles (Paperback))'\n",
        "df.loc[title].shape"
      ]
    },
    {
      "cell_type": "markdown",
      "metadata": {
        "id": "gQuaufRD2x9R"
      },
      "source": []
    },
    {
      "cell_type": "code",
      "execution_count": null,
      "metadata": {
        "id": "rkS3qpfy2hJi"
      },
      "outputs": [],
      "source": [
        "distance, indice = model.kneighbors([df.loc[title].values],n_neighbors=6)\n",
        "\n",
        "print(distance)\n",
        "print(indice)"
      ]
    },
    {
      "cell_type": "code",
      "execution_count": null,
      "metadata": {
        "id": "dR09dBaJ2wSn"
      },
      "outputs": [],
      "source": [
        "df.iloc[indice[0]].index.values"
      ]
    },
    {
      "cell_type": "code",
      "execution_count": null,
      "metadata": {
        "id": "KTJo4UOe97vH"
      },
      "outputs": [],
      "source": [
        "pd.DataFrame({\n",
        "    'title'   : df.iloc[indice[0]].index.values,\n",
        "    'distance': distance[0]\n",
        "}) \\\n",
        ".sort_values(by='distance', ascending=False)"
      ]
    },
    {
      "cell_type": "code",
      "execution_count": null,
      "metadata": {
        "id": "C9SneH3u-f8Z"
      },
      "outputs": [],
      "source": [
        " #function to return recommended books - this will be tested\n",
        "def get_recommends(title = \"\"):\n",
        "  try:\n",
        "    book = df.loc[title]\n",
        "  except KeyError as e:\n",
        "    print('The given book', e, 'does not exist')\n",
        "    return\n",
        "\n",
        "  distance, indice = model.kneighbors([book.values], n_neighbors=6)\n",
        "\n",
        "  recommended_books = pd.DataFrame({\n",
        "      'title'   : df.iloc[indice[0]].index.values,\n",
        "      'distance': distance[0]\n",
        "    }) \\\n",
        "    .sort_values(by='distance', ascending=False) \\\n",
        "    .head(5).values\n",
        "\n",
        "  return [title, recommended_books]"
      ]
    },
    {
      "cell_type": "code",
      "execution_count": null,
      "metadata": {
        "id": "Pyj84lX2-B_1"
      },
      "outputs": [],
      "source": [
        "books = get_recommends(\"The Queen of the Damned (Vampire Chronicles (Paperback))\")\n",
        "print(books)\n",
        "\n",
        "def test_book_recommendation():\n",
        "  test_pass = True\n",
        "  recommends = get_recommends(\"Where the Heart Is (Oprah's Book Club (Paperback))\")\n",
        "  if recommends[0] != \"Where the Heart Is (Oprah's Book Club (Paperback))\":\n",
        "    test_pass = False\n",
        "  recommended_books = [\"I'll Be Seeing You\", 'The Weight of Water', 'The Surgeon', 'I Know This Much Is True']\n",
        "  recommended_books_dist = [0.8, 0.77, 0.77, 0.77]\n",
        "  for i in range(2):\n",
        "    if recommends[1][i][0] not in recommended_books:\n",
        "      test_pass = False\n",
        "    if abs(recommends[1][i][1] - recommended_books_dist[i]) >= 0.05:\n",
        "      test_pass = False\n",
        "  if test_pass:\n",
        "    print(\"You passed the challenge! 🎉🎉🎉🎉🎉\")\n",
        "  else:\n",
        "    print(\"You haven't passed yet. Keep trying!\")\n",
        "\n",
        "test_book_recommendation()"
      ]
    },
    {
      "cell_type": "code",
      "execution_count": null,
      "metadata": {
        "id": "cvyWLk-6-tM3"
      },
      "outputs": [],
      "source": []
    }
  ],
  "metadata": {
    "colab": {
      "provenance": []
    },
    "kernelspec": {
      "display_name": "Python 3",
      "name": "python3"
    },
    "language_info": {
      "name": "python"
    }
  },
  "nbformat": 4,
  "nbformat_minor": 0
}